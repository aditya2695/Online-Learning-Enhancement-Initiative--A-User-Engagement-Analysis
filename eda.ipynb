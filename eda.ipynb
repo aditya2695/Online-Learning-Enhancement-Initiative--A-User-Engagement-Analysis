{
    "metadata": {
        "kernelspec": {
            "name": "python3",
            "display_name": "Python 3",
            "language": "python"
        },
        "language_info": {
            "name": "python",
            "version": "3.9.18",
            "mimetype": "text/x-python",
            "codemirror_mode": {
                "name": "ipython",
                "version": 3
            },
            "pygments_lexer": "ipython3",
            "nbconvert_exporter": "python",
            "file_extension": ".py"
        }
    },
    "nbformat_minor": 2,
    "nbformat": 4,
    "cells": [
        {
            "cell_type": "code",
            "source": [
                "import pandas as pd\r\n",
                "import numpy as np"
            ],
            "metadata": {
                "azdata_cell_guid": "2f893a8d-8867-4aab-8522-62574c0081eb",
                "language": "python"
            },
            "outputs": [],
            "execution_count": 1
        },
        {
            "cell_type": "code",
            "source": [
                ""
            ],
            "metadata": {
                "language": "python",
                "azdata_cell_guid": "aafda9e5-e661-4842-aa09-ea56dd1c0818"
            },
            "outputs": [],
            "execution_count": null
        }
    ]
}