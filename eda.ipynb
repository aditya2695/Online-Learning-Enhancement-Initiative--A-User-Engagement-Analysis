{
    "cells": [
        {
            "cell_type": "code",
            "execution_count": 120,
            "metadata": {
                "azdata_cell_guid": "2f893a8d-8867-4aab-8522-62574c0081eb",
                "language": "python"
            },
            "outputs": [],
            "source": [
                "import mysql.connector\n",
                "import pandas as pd\n",
                "import matplotlib.pyplot as plt\n",
                "import seaborn as sns\n",
                "import random\n"
            ]
        },
        {
            "cell_type": "code",
            "execution_count": 121,
            "metadata": {},
            "outputs": [],
            "source": [
                "\n",
                "# Function to plot beautiful Seaborn graphs with custom colors\n",
                "def plot_graph(data, x, y, title, xlabel, ylabel, kind='bar', colors=None):\n",
                "    # Custom colors\n",
                "    colors = ['#3D3B40', '#525CEB', '#BFCFE7', '#11009E', '#FFE7C1', '#F3CCF3', '#E9A8F2', '#DC84F3']\n",
                "    sns.set(style=\"whitegrid\")\n",
                "    plt.figure(figsize=(10, 6))\n",
                "    if kind == 'bar':\n",
                "        sns.barplot(x=x, y=y, data=data, palette=colors)\n",
                "    elif kind == 'line':\n",
                "        sns.lineplot(x=x, y=y, data=data,color=random.choice(colors))\n",
                "    plt.title(title)\n",
                "    plt.xlabel(xlabel)\n",
                "    plt.ylabel(ylabel)\n",
                "    plt.xticks(rotation=45)\n",
                "    plt.show()\n"
            ]
        },
        {
            "cell_type": "code",
            "execution_count": null,
            "metadata": {},
            "outputs": [],
            "source": [
                "\n"
            ]
        },
        {
            "cell_type": "markdown",
            "metadata": {},
            "source": [
                "# Connect to DB"
            ]
        },
        {
            "cell_type": "code",
            "execution_count": 122,
            "metadata": {},
            "outputs": [],
            "source": [
                "# Connect to MySQL database\n",
                "db_connection = mysql.connector.connect(\n",
                "    host=\"localhost\",\n",
                "    user=\"root\",\n",
                "    password=\"1234\",\n",
                "    database=\"data_scientist_project\"\n",
                ")\n",
                "\n",
                "# Define functions for executing SQL queries and fetching data\n",
                "def execute_query(query):\n",
                "    cursor = db_connection.cursor()\n",
                "    cursor.execute(query)\n",
                "    return cursor.fetchall()\n",
                "\n",
                "def fetch_dataframe(query):\n",
                "    cursor = db_connection.cursor()\n",
                "    cursor.execute(query)\n",
                "    columns = [desc[0] for desc in cursor.description]\n",
                "    return pd.DataFrame(cursor.fetchall(), columns=columns)\n",
                "\n",
                "\n"
            ]
        },
        {
            "cell_type": "markdown",
            "metadata": {},
            "source": [
                "# Question 1: Which courses are the most watched by students, and how are they rated?"
            ]
        },
        {
            "cell_type": "code",
            "execution_count": 123,
            "metadata": {
                "azdata_cell_guid": "aafda9e5-e661-4842-aa09-ea56dd1c0818",
                "language": "python"
            },
            "outputs": [
                {
                    "name": "stdout",
                    "output_type": "stream",
                    "text": [
                        "Top 10 most watched courses:\n"
                    ]
                },
                {
                    "data": {
                        "text/html": [
                            "<div>\n",
                            "<style scoped>\n",
                            "    .dataframe tbody tr th:only-of-type {\n",
                            "        vertical-align: middle;\n",
                            "    }\n",
                            "\n",
                            "    .dataframe tbody tr th {\n",
                            "        vertical-align: top;\n",
                            "    }\n",
                            "\n",
                            "    .dataframe thead th {\n",
                            "        text-align: right;\n",
                            "    }\n",
                            "</style>\n",
                            "<table border=\"1\" class=\"dataframe\">\n",
                            "  <thead>\n",
                            "    <tr style=\"text-align: right;\">\n",
                            "      <th></th>\n",
                            "      <th>Course_Id</th>\n",
                            "      <th>Watch_Count</th>\n",
                            "      <th>Avg_Seconds_Watched</th>\n",
                            "    </tr>\n",
                            "  </thead>\n",
                            "  <tbody>\n",
                            "    <tr>\n",
                            "      <th>0</th>\n",
                            "      <td>7</td>\n",
                            "      <td>13250</td>\n",
                            "      <td>991.7157</td>\n",
                            "    </tr>\n",
                            "    <tr>\n",
                            "      <th>1</th>\n",
                            "      <td>14</td>\n",
                            "      <td>8108</td>\n",
                            "      <td>1674.1448</td>\n",
                            "    </tr>\n",
                            "    <tr>\n",
                            "      <th>2</th>\n",
                            "      <td>23</td>\n",
                            "      <td>7248</td>\n",
                            "      <td>1428.2442</td>\n",
                            "    </tr>\n",
                            "    <tr>\n",
                            "      <th>3</th>\n",
                            "      <td>21</td>\n",
                            "      <td>6854</td>\n",
                            "      <td>1314.0896</td>\n",
                            "    </tr>\n",
                            "    <tr>\n",
                            "      <th>4</th>\n",
                            "      <td>42</td>\n",
                            "      <td>6138</td>\n",
                            "      <td>1988.8669</td>\n",
                            "    </tr>\n",
                            "    <tr>\n",
                            "      <th>5</th>\n",
                            "      <td>16</td>\n",
                            "      <td>5471</td>\n",
                            "      <td>1743.3807</td>\n",
                            "    </tr>\n",
                            "    <tr>\n",
                            "      <th>6</th>\n",
                            "      <td>28</td>\n",
                            "      <td>2950</td>\n",
                            "      <td>1652.0044</td>\n",
                            "    </tr>\n",
                            "    <tr>\n",
                            "      <th>7</th>\n",
                            "      <td>37</td>\n",
                            "      <td>2612</td>\n",
                            "      <td>1372.4001</td>\n",
                            "    </tr>\n",
                            "    <tr>\n",
                            "      <th>8</th>\n",
                            "      <td>24</td>\n",
                            "      <td>2467</td>\n",
                            "      <td>1556.4641</td>\n",
                            "    </tr>\n",
                            "    <tr>\n",
                            "      <th>9</th>\n",
                            "      <td>35</td>\n",
                            "      <td>2442</td>\n",
                            "      <td>1198.6613</td>\n",
                            "    </tr>\n",
                            "  </tbody>\n",
                            "</table>\n",
                            "</div>"
                        ],
                        "text/plain": [
                            "   Course_Id  Watch_Count Avg_Seconds_Watched\n",
                            "0          7        13250            991.7157\n",
                            "1         14         8108           1674.1448\n",
                            "2         23         7248           1428.2442\n",
                            "3         21         6854           1314.0896\n",
                            "4         42         6138           1988.8669\n",
                            "5         16         5471           1743.3807\n",
                            "6         28         2950           1652.0044\n",
                            "7         37         2612           1372.4001\n",
                            "8         24         2467           1556.4641\n",
                            "9         35         2442           1198.6613"
                        ]
                    },
                    "execution_count": 123,
                    "metadata": {},
                    "output_type": "execute_result"
                }
            ],
            "source": [
                "\n",
                "query1 = \"\"\"\n",
                "SELECT sw.Course_Id, COUNT(sw.Student_Id) AS Watch_Count, AVG(sw.Seconds_Watched) AS Avg_Seconds_Watched\n",
                "FROM student_video_watched sw\n",
                "GROUP BY sw.Course_Id\n",
                "ORDER BY Watch_Count DESC\n",
                "LIMIT 10;\n",
                "\"\"\"\n",
                "df1 = fetch_dataframe(query1)\n",
                "print(\"Top 10 most watched courses:\")\n",
                "df1.head(10)\n",
                "\n"
            ]
        },
        {
            "cell_type": "code",
            "execution_count": 124,
            "metadata": {},
            "outputs": [
                {
                    "data": {
                        "image/png": "[encoded data removed]",
                        "text/plain": [
                            "<Figure size 720x432 with 1 Axes>"
                        ]
                    },
                    "metadata": {},
                    "output_type": "display_data"
                }
            ],
            "source": [
                "plot_graph(df1, 'Course_Id', 'Watch_Count', 'Top 10 most watched courses', 'Course ID', 'Watch Count', kind='bar')\n"
            ]
        },
        {
            "cell_type": "markdown",
            "metadata": {},
            "source": [
                "# Question 2: How many students register each month, and what fraction are onboarded?"
            ]
        },
        {
            "cell_type": "code",
            "execution_count": 125,
            "metadata": {},
            "outputs": [
                {
                    "name": "stdout",
                    "output_type": "stream",
                    "text": [
                        "\n",
                        "Monthly registration and onboarding statistics:\n"
                    ]
                },
                {
                    "data": {
                        "text/html": [
                            "<div>\n",
                            "<style scoped>\n",
                            "    .dataframe tbody tr th:only-of-type {\n",
                            "        vertical-align: middle;\n",
                            "    }\n",
                            "\n",
                            "    .dataframe tbody tr th {\n",
                            "        vertical-align: top;\n",
                            "    }\n",
                            "\n",
                            "    .dataframe thead th {\n",
                            "        text-align: right;\n",
                            "    }\n",
                            "</style>\n",
                            "<table border=\"1\" class=\"dataframe\">\n",
                            "  <thead>\n",
                            "    <tr style=\"text-align: right;\">\n",
                            "      <th></th>\n",
                            "      <th>Month</th>\n",
                            "      <th>Total_Registered</th>\n",
                            "      <th>Onboarded</th>\n",
                            "      <th>Fraction_Onboarded</th>\n",
                            "    </tr>\n",
                            "  </thead>\n",
                            "  <tbody>\n",
                            "    <tr>\n",
                            "      <th>0</th>\n",
                            "      <td>12</td>\n",
                            "      <td>6674</td>\n",
                            "      <td>6624</td>\n",
                            "      <td>0.9925082409349715313155528918</td>\n",
                            "    </tr>\n",
                            "    <tr>\n",
                            "      <th>1</th>\n",
                            "      <td>8</td>\n",
                            "      <td>7784</td>\n",
                            "      <td>7764</td>\n",
                            "      <td>0.9974306269270298047276464543</td>\n",
                            "    </tr>\n",
                            "    <tr>\n",
                            "      <th>2</th>\n",
                            "      <td>7</td>\n",
                            "      <td>5989</td>\n",
                            "      <td>5955</td>\n",
                            "      <td>0.9943229253631658039739522458</td>\n",
                            "    </tr>\n",
                            "    <tr>\n",
                            "      <th>3</th>\n",
                            "      <td>1</td>\n",
                            "      <td>6246</td>\n",
                            "      <td>6164</td>\n",
                            "      <td>0.9868715978226064681396093500</td>\n",
                            "    </tr>\n",
                            "    <tr>\n",
                            "      <th>4</th>\n",
                            "      <td>3</td>\n",
                            "      <td>29126</td>\n",
                            "      <td>29063</td>\n",
                            "      <td>0.9978369841378836778136373000</td>\n",
                            "    </tr>\n",
                            "    <tr>\n",
                            "      <th>5</th>\n",
                            "      <td>4</td>\n",
                            "      <td>99095</td>\n",
                            "      <td>98968</td>\n",
                            "      <td>0.9987184015338816287400978859</td>\n",
                            "    </tr>\n",
                            "    <tr>\n",
                            "      <th>6</th>\n",
                            "      <td>9</td>\n",
                            "      <td>7317</td>\n",
                            "      <td>7288</td>\n",
                            "      <td>0.9960366270329369960366270329</td>\n",
                            "    </tr>\n",
                            "    <tr>\n",
                            "      <th>7</th>\n",
                            "      <td>11</td>\n",
                            "      <td>24712</td>\n",
                            "      <td>24640</td>\n",
                            "      <td>0.9970864357397215927484622855</td>\n",
                            "    </tr>\n",
                            "    <tr>\n",
                            "      <th>8</th>\n",
                            "      <td>10</td>\n",
                            "      <td>63543</td>\n",
                            "      <td>63497</td>\n",
                            "      <td>0.9992760807642069150024392931</td>\n",
                            "    </tr>\n",
                            "    <tr>\n",
                            "      <th>9</th>\n",
                            "      <td>6</td>\n",
                            "      <td>9646</td>\n",
                            "      <td>9600</td>\n",
                            "      <td>0.9952311839104291934480613726</td>\n",
                            "    </tr>\n",
                            "  </tbody>\n",
                            "</table>\n",
                            "</div>"
                        ],
                        "text/plain": [
                            "   Month  Total_Registered Onboarded              Fraction_Onboarded\n",
                            "0     12              6674      6624  0.9925082409349715313155528918\n",
                            "1      8              7784      7764  0.9974306269270298047276464543\n",
                            "2      7              5989      5955  0.9943229253631658039739522458\n",
                            "3      1              6246      6164  0.9868715978226064681396093500\n",
                            "4      3             29126     29063  0.9978369841378836778136373000\n",
                            "5      4             99095     98968  0.9987184015338816287400978859\n",
                            "6      9              7317      7288  0.9960366270329369960366270329\n",
                            "7     11             24712     24640  0.9970864357397215927484622855\n",
                            "8     10             63543     63497  0.9992760807642069150024392931\n",
                            "9      6              9646      9600  0.9952311839104291934480613726"
                        ]
                    },
                    "execution_count": 125,
                    "metadata": {},
                    "output_type": "execute_result"
                }
            ],
            "source": [
                "\n",
                "query2 = \"\"\"\n",
                "SELECT MONTH(Date_registered) AS Month, COUNT(*) AS Total_Registered,\n",
                "       SUM(IF(spi.Date_Refunded IS NULL, 1, 0)) AS Onboarded\n",
                "FROM student_info si\n",
                "LEFT JOIN \n",
                "\tstudent_purchases spi ON si.Student_Id = spi.Student_Id\n",
                "GROUP BY Month;\n",
                "\"\"\"\n",
                "df2 = fetch_dataframe(query2)\n",
                "df2['Fraction_Onboarded'] = df2['Onboarded'] / df2['Total_Registered']\n",
                "print(\"\\nMonthly registration and onboarding statistics:\")\n",
                "df2.head(10)\n",
                "\n"
            ]
        },
        {
            "cell_type": "code",
            "execution_count": 126,
            "metadata": {},
            "outputs": [
                {
                    "data": {
                        "image/png": "[encoded data removed]",
                        "text/plain": [
                            "<Figure size 720x432 with 1 Axes>"
                        ]
                    },
                    "metadata": {},
                    "output_type": "display_data"
                }
            ],
            "source": [
                "plot_graph(df2, 'Month', 'Total_Registered', 'Monthly registration and onboarding statistics', 'Month', 'Total Registered', kind='line')\n"
            ]
        },
        {
            "cell_type": "markdown",
            "metadata": {},
            "source": [
                "# Question 3: How do students engage with the platform based on student type?"
            ]
        },
        {
            "cell_type": "code",
            "execution_count": 127,
            "metadata": {},
            "outputs": [
                {
                    "name": "stdout",
                    "output_type": "stream",
                    "text": [
                        "\n",
                        "Engagement with the platform based on student type:\n"
                    ]
                },
                {
                    "data": {
                        "text/html": [
                            "<div>\n",
                            "<style scoped>\n",
                            "    .dataframe tbody tr th:only-of-type {\n",
                            "        vertical-align: middle;\n",
                            "    }\n",
                            "\n",
                            "    .dataframe tbody tr th {\n",
                            "        vertical-align: top;\n",
                            "    }\n",
                            "\n",
                            "    .dataframe thead th {\n",
                            "        text-align: right;\n",
                            "    }\n",
                            "</style>\n",
                            "<table border=\"1\" class=\"dataframe\">\n",
                            "  <thead>\n",
                            "    <tr style=\"text-align: right;\">\n",
                            "      <th></th>\n",
                            "      <th>Plan_Id</th>\n",
                            "      <th>Avg_Seconds_Watched</th>\n",
                            "    </tr>\n",
                            "  </thead>\n",
                            "  <tbody>\n",
                            "    <tr>\n",
                            "      <th>0</th>\n",
                            "      <td>0</td>\n",
                            "      <td>1674.8472</td>\n",
                            "    </tr>\n",
                            "    <tr>\n",
                            "      <th>1</th>\n",
                            "      <td>2</td>\n",
                            "      <td>1664.9355</td>\n",
                            "    </tr>\n",
                            "    <tr>\n",
                            "      <th>2</th>\n",
                            "      <td>3</td>\n",
                            "      <td>1927.8466</td>\n",
                            "    </tr>\n",
                            "    <tr>\n",
                            "      <th>3</th>\n",
                            "      <td>1</td>\n",
                            "      <td>1699.6147</td>\n",
                            "    </tr>\n",
                            "  </tbody>\n",
                            "</table>\n",
                            "</div>"
                        ],
                        "text/plain": [
                            "   Plan_Id Avg_Seconds_Watched\n",
                            "0        0           1674.8472\n",
                            "1        2           1664.9355\n",
                            "2        3           1927.8466\n",
                            "3        1           1699.6147"
                        ]
                    },
                    "execution_count": 127,
                    "metadata": {},
                    "output_type": "execute_result"
                }
            ],
            "source": [
                "\n",
                "query3 = \"\"\"\n",
                "SELECT sp.Plan_Id, AVG(svw.Seconds_Watched) AS Avg_Seconds_Watched\n",
                "FROM student_video_watched svw\n",
                "JOIN student_info si ON svw.Student_Id = si.Student_Id\n",
                "JOIN student_purchases sp ON si.Student_Id = sp.Student_Id\n",
                "GROUP BY sp.Plan_Id;\n",
                "\"\"\"\n",
                "df3 = fetch_dataframe(query3)\n",
                "print(\"\\nEngagement with the platform based on student type:\")\n",
                "df3.head(10)\n"
            ]
        },
        {
            "cell_type": "code",
            "execution_count": 128,
            "metadata": {},
            "outputs": [
                {
                    "data": {
                        "image/png": "[encoded data removed]",
                        "text/plain": [
                            "<Figure size 720x432 with 1 Axes>"
                        ]
                    },
                    "metadata": {},
                    "output_type": "display_data"
                }
            ],
            "source": [
                "plot_graph(df3, 'Plan_Id', 'Avg_Seconds_Watched', 'Engagement with the platform based on student type', 'Plan ID', 'Average Seconds Watched', kind='bar')\n"
            ]
        },
        {
            "cell_type": "markdown",
            "metadata": {},
            "source": [
                "\n",
                "# Question 4: Do students watch more content with time, and does it vary seasonally?"
            ]
        },
        {
            "cell_type": "code",
            "execution_count": 129,
            "metadata": {},
            "outputs": [
                {
                    "name": "stdout",
                    "output_type": "stream",
                    "text": [
                        "\n",
                        "Average minutes watched per month:\n"
                    ]
                },
                {
                    "data": {
                        "text/html": [
                            "<div>\n",
                            "<style scoped>\n",
                            "    .dataframe tbody tr th:only-of-type {\n",
                            "        vertical-align: middle;\n",
                            "    }\n",
                            "\n",
                            "    .dataframe tbody tr th {\n",
                            "        vertical-align: top;\n",
                            "    }\n",
                            "\n",
                            "    .dataframe thead th {\n",
                            "        text-align: right;\n",
                            "    }\n",
                            "</style>\n",
                            "<table border=\"1\" class=\"dataframe\">\n",
                            "  <thead>\n",
                            "    <tr style=\"text-align: right;\">\n",
                            "      <th></th>\n",
                            "      <th>Year</th>\n",
                            "      <th>Month</th>\n",
                            "      <th>Avg_Seconds_Watched</th>\n",
                            "    </tr>\n",
                            "  </thead>\n",
                            "  <tbody>\n",
                            "    <tr>\n",
                            "      <th>0</th>\n",
                            "      <td>2021</td>\n",
                            "      <td>4</td>\n",
                            "      <td>1304.6825</td>\n",
                            "    </tr>\n",
                            "    <tr>\n",
                            "      <th>1</th>\n",
                            "      <td>2021</td>\n",
                            "      <td>6</td>\n",
                            "      <td>1646.2347</td>\n",
                            "    </tr>\n",
                            "    <tr>\n",
                            "      <th>2</th>\n",
                            "      <td>2021</td>\n",
                            "      <td>5</td>\n",
                            "      <td>1467.7972</td>\n",
                            "    </tr>\n",
                            "    <tr>\n",
                            "      <th>3</th>\n",
                            "      <td>2022</td>\n",
                            "      <td>4</td>\n",
                            "      <td>1525.7517</td>\n",
                            "    </tr>\n",
                            "    <tr>\n",
                            "      <th>4</th>\n",
                            "      <td>2022</td>\n",
                            "      <td>6</td>\n",
                            "      <td>1393.0573</td>\n",
                            "    </tr>\n",
                            "    <tr>\n",
                            "      <th>5</th>\n",
                            "      <td>2022</td>\n",
                            "      <td>5</td>\n",
                            "      <td>1413.4962</td>\n",
                            "    </tr>\n",
                            "  </tbody>\n",
                            "</table>\n",
                            "</div>"
                        ],
                        "text/plain": [
                            "   Year  Month Avg_Seconds_Watched\n",
                            "0  2021      4           1304.6825\n",
                            "1  2021      6           1646.2347\n",
                            "2  2021      5           1467.7972\n",
                            "3  2022      4           1525.7517\n",
                            "4  2022      6           1393.0573\n",
                            "5  2022      5           1413.4962"
                        ]
                    },
                    "execution_count": 129,
                    "metadata": {},
                    "output_type": "execute_result"
                }
            ],
            "source": [
                "\n",
                "query4 = \"\"\"\n",
                "SELECT YEAR(sw.Date_Watched) AS Year, MONTH(sw.Date_Watched) AS Month,\n",
                "       AVG(sw.Seconds_Watched) AS Avg_Seconds_Watched\n",
                "FROM student_video_watched sw\n",
                "GROUP BY Year, Month;\n",
                "\"\"\"\n",
                "df4 = fetch_dataframe(query4)\n",
                "print(\"\\nAverage minutes watched per month:\")\n",
                "df4.head(10)\n"
            ]
        },
        {
            "cell_type": "code",
            "execution_count": 130,
            "metadata": {},
            "outputs": [
                {
                    "data": {
                        "image/png": "[encoded data removed]",
                        "text/plain": [
                            "<Figure size 720x432 with 1 Axes>"
                        ]
                    },
                    "metadata": {},
                    "output_type": "display_data"
                }
            ],
            "source": [
                "plot_graph(df4, 'Month', 'Avg_Seconds_Watched', 'Average minutes watched per month', 'Month', 'Average Seconds Watched', kind='line')\n"
            ]
        },
        {
            "cell_type": "code",
            "execution_count": 131,
            "metadata": {},
            "outputs": [],
            "source": [
                "colors=['#3D3B40','#525CEB','#BFCFE7','#F8EDFF'\n",
                "        '#FFE7C1','#F3CCF3','#E9A8F2','#DC84F3']"
            ]
        },
        {
            "cell_type": "code",
            "execution_count": 133,
            "metadata": {},
            "outputs": [],
            "source": [
                "\n",
                "# # Close the database connection\n",
                "db_connection.close()"
            ]
        },
        {
            "cell_type": "code",
            "execution_count": null,
            "metadata": {},
            "outputs": [],
            "source": []
        }
    ],
    "metadata": {
        "kernelspec": {
            "display_name": "Python 3",
            "language": "python",
            "name": "python3"
        },
        "language_info": {
            "codemirror_mode": {
                "name": "ipython",
                "version": 3
            },
            "file_extension": ".py",
            "mimetype": "text/x-python",
            "name": "python",
            "nbconvert_exporter": "python",
            "pygments_lexer": "ipython3",
            "version": "3.9.18"
        }
    },
    "nbformat": 4,
    "nbformat_minor": 2
}
